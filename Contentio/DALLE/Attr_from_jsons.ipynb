{
 "cells": [
  {
   "cell_type": "code",
   "execution_count": 10,
   "metadata": {},
   "outputs": [],
   "source": [
    "import requests\n",
    "import openai\n",
    "import json\n",
    "import time\n",
    "from PIL import Image\n",
    "import io"
   ]
  },
  {
   "cell_type": "code",
   "execution_count": null,
   "metadata": {},
   "outputs": [],
   "source": [
    "#OPEN AI KEY\n",
    "key = ''\n",
    "openai.api_key = key"
   ]
  },
  {
   "cell_type": "code",
   "execution_count": 12,
   "metadata": {},
   "outputs": [],
   "source": [
    "failed_list_of_cities = []\n",
    "\n",
    "def get_place_pics(city,ammount_of_pic_to_get,perspective_type,size_of_image):\n",
    " \n",
    "  retry_delay = 5 \n",
    "  chep_trip_api = ''\n",
    "  atraction_name = ''\n",
    "\n",
    "  view_type = perspective_type\n",
    "\n",
    "  print(f'we save attractions for city {city}')\n",
    "  # Read JSON data from a file\n",
    "  with open(f'./children_attractions/{city}.json', 'r') as file:\n",
    "      city_data = json.load(file)\n",
    "  \n",
    "  #WE GET ALL ATTR IN THIS CITY\n",
    "  for key, attraction_name in city_data.items():\n",
    "\n",
    "    \n",
    "    try:\n",
    "      resp = openai.Image.create(\n",
    "        prompt= f\"{view_type} {attraction_name} in {city}\",\n",
    "        n=ammount_of_pic_to_get,\n",
    "        size=size_of_image\n",
    "      \n",
    "      )\n",
    "      print(f'we got the bytes of the image {city} {attraction_name}')\n",
    "      for each_resp in resp[\"data\"]:\n",
    "      \n",
    "        img_url = each_resp['url']\n",
    "        response = requests.get(img_url)\n",
    "        #cont image bytes\n",
    "        cont = response.content\n",
    "\n",
    "        \n",
    "        #save from openAI\n",
    "        print(f'we save localy for {city} attraction name {attraction_name}')\n",
    "        with open(f'./Images_for_attr/{city}/{key}_[{attraction_name}].jpg', 'wb') as f:\n",
    "            \n",
    "            f.write(cont)\n",
    "            f.close()\n",
    "        # Open the image file\n",
    "        image = Image.open(f'./Images_for_attr/{city}/{key}_[{attraction_name}].jpg')\n",
    "\n",
    "        # Define the desired size\n",
    "        new_size = (1024, 1024)\n",
    "\n",
    "        # Resize the image\n",
    "        resized_image = image.resize(new_size)\n",
    "\n",
    "        # Save the resized image\n",
    "        resized_image.save(f'./Images_for_attr/{city}/{key}_[{attraction_name}]r.jpg')\n",
    "        \n",
    "\n",
    "    except Exception as e:\n",
    "        if(city not in failed_list_of_cities):\n",
    "          failed_list_of_cities.append(city)\n",
    "        print(f\"error {type(e)} on city name {city} attraction name {attraction_name} occurred: {str(e)}\")\n",
    "        time.sleep(retry_delay)\n",
    "        pass\n",
    "    "
   ]
  },
  {
   "cell_type": "code",
   "execution_count": 13,
   "metadata": {},
   "outputs": [
    {
     "name": "stdout",
     "output_type": "stream",
     "text": [
      "we save attractions for city Aalborg\n",
      "we got the bytes of the image Aalborg Aalborg Zoo\n",
      "we save localy for Aalborg attraction name Aalborg Zoo\n",
      "we got the bytes of the image Aalborg Funcenter\n",
      "we save localy for Aalborg attraction name Funcenter\n",
      "we got the bytes of the image Aalborg Karolinelund Amusement Park\n",
      "we save localy for Aalborg attraction name Karolinelund Amusement Park\n",
      "we got the bytes of the image Aalborg The Aalborg Beer Walk\n",
      "we save localy for Aalborg attraction name The Aalborg Beer Walk\n",
      "we got the bytes of the image Aalborg The Aalborg Carnival\n",
      "we save localy for Aalborg attraction name The Aalborg Carnival\n",
      "we got the bytes of the image Aalborg The Aalborg Historical Museum\n",
      "we save localy for Aalborg attraction name The Aalborg Historical Museum\n",
      "we got the bytes of the image Aalborg The Aalborg Music Festival\n",
      "we save localy for Aalborg attraction name The Aalborg Music Festival\n",
      "we got the bytes of the image Aalborg The Aalborg Street Food Market\n",
      "we save localy for Aalborg attraction name The Aalborg Street Food Market\n",
      "we got the bytes of the image Aalborg The Aalborg Symphony Orchestra\n",
      "we save localy for Aalborg attraction name The Aalborg Symphony Orchestra\n",
      "we got the bytes of the image Aalborg The Aalborg Theatre Festival\n",
      "we save localy for Aalborg attraction name The Aalborg Theatre Festival\n",
      "we got the bytes of the image Aalborg The Aalborg Tower\n",
      "we save localy for Aalborg attraction name The Aalborg Tower\n",
      "we got the bytes of the image Aalborg The Aalborg Zoo Safari\n",
      "we save localy for Aalborg attraction name The Aalborg Zoo Safari\n",
      "we got the bytes of the image Aalborg The Children's Library\n",
      "we save localy for Aalborg attraction name The Children's Library\n",
      "we got the bytes of the image Aalborg The Children's Traffic School\n",
      "we save localy for Aalborg attraction name The Children's Traffic School\n",
      "we got the bytes of the image Aalborg The Kunsten Museum of Modern Art\n",
      "we save localy for Aalborg attraction name The Kunsten Museum of Modern Art\n",
      "we got the bytes of the image Aalborg The Playhouse\n",
      "we save localy for Aalborg attraction name The Playhouse\n",
      "we got the bytes of the image Aalborg The Science and Technology Museum\n",
      "we save localy for Aalborg attraction name The Science and Technology Museum\n",
      "we got the bytes of the image Aalborg The Teddy Bear Museum\n",
      "we save localy for Aalborg attraction name The Teddy Bear Museum\n",
      "we got the bytes of the image Aalborg The Utzon Center\n",
      "we save localy for Aalborg attraction name The Utzon Center\n",
      "we got the bytes of the image Aalborg The Viking Museum\n",
      "we save localy for Aalborg attraction name The Viking Museum\n"
     ]
    }
   ],
   "source": [
    "city = 'Aalborg'\n",
    "get_place_pics(city,1,'landscape view',\"512x512\")"
   ]
  }
 ],
 "metadata": {
  "kernelspec": {
   "display_name": "Python 3",
   "language": "python",
   "name": "python3"
  },
  "language_info": {
   "codemirror_mode": {
    "name": "ipython",
    "version": 3
   },
   "file_extension": ".py",
   "mimetype": "text/x-python",
   "name": "python",
   "nbconvert_exporter": "python",
   "pygments_lexer": "ipython3",
   "version": "3.11.0"
  },
  "orig_nbformat": 4
 },
 "nbformat": 4,
 "nbformat_minor": 2
}
