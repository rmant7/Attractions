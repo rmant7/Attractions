{
 "cells": [
  {
   "cell_type": "code",
   "execution_count": null,
   "metadata": {},
   "outputs": [],
   "source": [
    "import facebook\n",
    "import json\n",
    "import requests\n",
    "import time\n",
    "import datetime"
   ]
  },
  {
   "cell_type": "code",
   "execution_count": null,
   "metadata": {},
   "outputs": [],
   "source": [
    "# Create a GraphAPI object with your access token\n",
    "access_token_for_user = \"\"\n",
    "# Set the graph with access_token_for_user\n",
    "graph = facebook.GraphAPI(access_token_for_user)\n",
    "\n",
    "# Get the list of pages managed by you\n",
    "accounts = graph.get_connections('me', 'accounts')\n",
    "\n",
    "# Set name of the page where we want to post \n",
    "name_of_page_where_we_want_to_post = ''\n",
    "\n",
    "# Find the page you created and get its ID\n",
    "for account in accounts['data']:\n",
    "    \n",
    "    if account['name'] == name_of_page_where_we_want_to_post:\n",
    "        # If we find needed page we set variable page_id to actual id of the page\n",
    "        page_id = account['id']\n",
    "        \n",
    "        print(f\"The ID of the {account['name']} page is: {page_id} and token is {account['access_token']}\")\n",
    "    else: print(account['name'])\n"
   ]
  },
  {
   "cell_type": "code",
   "execution_count": null,
   "metadata": {},
   "outputs": [],
   "source": [
    "#POST IMMEDIATE POST WITH TIME OF THE POST\n",
    "\n",
    "\n",
    "# Set graph for the page account['access_token']\n",
    "graph_for_Content_automate = facebook.GraphAPI(account['access_token'])\n",
    "\n",
    "# Post a message on the page\n",
    "time_now = int(time.time())\n",
    "\n",
    "date_now = datetime.datetime.fromtimestamp(time_now)\n",
    "\n",
    "# Message of the psot \n",
    "message = f'Hello, world! from {date_now}'\n",
    "graph_for_Content_automate.put_object(page_id, 'feed', message=message)  \n"
   ]
  },
  {
   "cell_type": "code",
   "execution_count": null,
   "metadata": {},
   "outputs": [],
   "source": [
    "# ADDING IAMGE TO THE ALBUM\n",
    "album_id = ''\n",
    "\n",
    "albums = graph_for_Content_automate.get_object(f'{album_id}/albums')\n",
    "\n",
    "# Print the ID and name of each album\n",
    "for album in albums['data']:\n",
    "    if(album['name']=='Cities_pictures'):\n",
    "        id_of_album_where_to_save = album['id']\n",
    "        print(album['id'],album['name'])\n",
    "    \n",
    "#PUT IAMGE TO ALBUM\n",
    "with open('./image_of_Baku.jpg', 'rb') as image:\n",
    "    graph_for_Content_automate.put_photo(image=image, album_path=f\"/{id_of_album_where_to_save}/photos\")\n"
   ]
  },
  {
   "cell_type": "code",
   "execution_count": null,
   "metadata": {},
   "outputs": [],
   "source": [
    "#POST A IMAGE WITH MESSAGE\n",
    "with open('./image_of_Abu Dhabi.jpg', 'rb') as image:\n",
    "    graph_for_Content_automate.put_photo(image=image, message='City_ab')"
   ]
  },
  {
   "cell_type": "code",
   "execution_count": null,
   "metadata": {},
   "outputs": [],
   "source": [
    "#SCHEDULED POST\n",
    "\n",
    "graph_for_Content_automate = facebook.GraphAPI(account['access_token'])\n",
    "\n",
    "# Get the timestamp for 10 minutes from now\n",
    "delayed_time = int(time.time() + 600)\n",
    "\n",
    "\n",
    "date = datetime.datetime.fromtimestamp(delayed_time)\n",
    "# The message to post\n",
    "post_message = f\"Hello, this is a scheduled post!Which need to be posted at {date}\"\n",
    "\n",
    "URL_of_iamge = ''\n",
    "# Create the post object \n",
    "# source must the the url for iamge\n",
    "post_obj = {\n",
    "    \"message\": post_message,\n",
    "    \"published\": False,\n",
    "    \"scheduled_publish_time\": delayed_time,\n",
    "    \"source\":'{URL_of_iamge}'\n",
    "}\n",
    "\n",
    "# Schedule the post\n",
    "graph_for_Content_automate.put_object(parent_object=page_id, connection_name='feed', **post_obj)\n"
   ]
  },
  {
   "cell_type": "code",
   "execution_count": null,
   "metadata": {},
   "outputs": [],
   "source": [
    "#CHECK SCHEDULED POSTS\n",
    "\n",
    "scheduled_posts = graph_for_Content_automate.get_connections(page_id, 'scheduled_posts')\n",
    "\n",
    "\n",
    "for each_post in scheduled_posts['data']:\n",
    "    if('message' in each_post):\n",
    "        print(each_post['id'],each_post['message'] )\n",
    "print(len(scheduled_posts['data'] ))\n",
    "\n"
   ]
  }
 ],
 "metadata": {
  "kernelspec": {
   "display_name": "Python 3",
   "language": "python",
   "name": "python3"
  },
  "language_info": {
   "codemirror_mode": {
    "name": "ipython",
    "version": 3
   },
   "file_extension": ".py",
   "mimetype": "text/x-python",
   "name": "python",
   "nbconvert_exporter": "python",
   "pygments_lexer": "ipython3",
   "version": "3.11.0"
  },
  "orig_nbformat": 4
 },
 "nbformat": 4,
 "nbformat_minor": 2
}
